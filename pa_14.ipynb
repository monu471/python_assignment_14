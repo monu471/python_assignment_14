{
 "cells": [
  {
   "cell_type": "markdown",
   "id": "d0738a27",
   "metadata": {},
   "source": [
    "### Q1. Is an assignment operator like += only for show? Is it possible that it would lead to faster results at the runtime?"
   ]
  },
  {
   "cell_type": "markdown",
   "id": "23a7d10c",
   "metadata": {},
   "source": [
    "In some cases, using the += operator can be more efficient than creating a new variable, especially when working with large data sets. This is because creating a new variable requires additional memory allocation and deallocation, which can be a slow process for large data sets. Using += instead of creating a new variable can reduce the memory"
   ]
  },
  {
   "cell_type": "markdown",
   "id": "b372c61d",
   "metadata": {},
   "source": [
    "### Q2. What is the smallest number of statements you'd have to write in most programming languages to replace the Python expression a, b = a + b, a?"
   ]
  },
  {
   "cell_type": "markdown",
   "id": "3ca98299",
   "metadata": {},
   "source": [
    "In most programming languages, you would need at least three statements to replace the Python expression a, b = a + b, a"
   ]
  },
  {
   "cell_type": "markdown",
   "id": "79d0f678",
   "metadata": {},
   "source": [
    "### Q3. In Python, what is the most effective way to set a list of 100 integers to 0?"
   ]
  },
  {
   "cell_type": "code",
   "execution_count": 5,
   "id": "77eabfe3",
   "metadata": {},
   "outputs": [],
   "source": [
    "my_list = [0] * 100\n",
    "## list comprehension\n"
   ]
  },
  {
   "cell_type": "markdown",
   "id": "29065878",
   "metadata": {},
   "source": [
    "### Q4. What is the most effective way to initialise a list of 99 integers that repeats the sequence 1, 2, 3? S If necessary, show step-by-step instructions on how to accomplish this."
   ]
  },
  {
   "cell_type": "code",
   "execution_count": 8,
   "id": "1b2ec19b",
   "metadata": {},
   "outputs": [],
   "source": [
    "### [1,2,3]*99   this mtd takes up more mamory\n",
    "new_list = [i%3+1 for i in range(99)]\n"
   ]
  },
  {
   "cell_type": "markdown",
   "id": "7708472c",
   "metadata": {},
   "source": [
    "### Q5. If you are using IDLE to run a Python application, explain how to print a multidimensional list as efficiently?"
   ]
  },
  {
   "cell_type": "code",
   "execution_count": 2,
   "id": "b3cdec11",
   "metadata": {},
   "outputs": [
    {
     "name": "stdout",
     "output_type": "stream",
     "text": [
      "1 2 3 \n",
      "4 5 6 \n",
      "7 8 9 \n"
     ]
    }
   ],
   "source": [
    "my_list = [[1, 2, 3], [4, 5, 6], [7, 8, 9]]\n",
    "\n",
    "for row in my_list:\n",
    "    for col in row:\n",
    "        print(col,end = \" \")\n",
    "    print()\n"
   ]
  },
  {
   "cell_type": "markdown",
   "id": "059c6eb1",
   "metadata": {},
   "source": [
    "### Q6. Is it possible to use list comprehension with a string? If so, how can you go about doing it?"
   ]
  },
  {
   "cell_type": "code",
   "execution_count": 11,
   "id": "613c9d2d",
   "metadata": {},
   "outputs": [],
   "source": [
    "# Yes, it is possible to use list comprehension with a string in Python\n",
    "a = \"ramisgood\"\n",
    "new_str = [i+ \" \"+str(\"shriram\") for i in a]\n"
   ]
  },
  {
   "cell_type": "markdown",
   "id": "71ec0b53",
   "metadata": {},
   "source": [
    "### Q7. From the command line, how do you get support with a user-written Python programme? Is this possible from inside IDLE?"
   ]
  },
  {
   "cell_type": "markdown",
   "id": "c2427512",
   "metadata": {},
   "source": [
    "\n",
    "To get support with a user-written Python program from the command line, you can use the --help option with the name of your Python program\n",
    "\n",
    "python my_program.py --help\n"
   ]
  },
  {
   "cell_type": "markdown",
   "id": "5ecbf163",
   "metadata": {},
   "source": [
    "### Q8. Functions are said to be “first-class objects” in Python but not in most other languages, such C++ or Java. What can you do in Python with a function (callable object) that you can't do in C or  C++?"
   ]
  },
  {
   "cell_type": "markdown",
   "id": "ca08c251",
   "metadata": {},
   "source": [
    "\n",
    "In Python, functions are considered \"first-class objects\" because they can be used in the same way as any other object, such as integers, strings, or lists. This means that functions can be assigned to variables, passed as arguments to other functions, returned as values from functions, and stored in data structures like lists or dictionaries."
   ]
  },
  {
   "cell_type": "markdown",
   "id": "654e0f29",
   "metadata": {},
   "source": [
    "### Q9. How do you distinguish between a wrapper, a wrapped feature, and a decorator?"
   ]
  },
  {
   "cell_type": "markdown",
   "id": "903b58a6",
   "metadata": {},
   "source": [
    "Purpose: A wrapper function is typically used to add some additional functionality to an existing function or piece of code, without fundamentally changing its behavior. A decorator, on the other hand, is used to modify the behavior of an existing function or add some additional functionality to it.\n",
    "\n",
    "Implementation: A wrapper function is a standalone function that takes another function as input and returns a modified version of that function. A decorator, on the other hand, is a higher-order function that takes a function as input and returns a new function that wraps or modifies the input function.\n",
    "\n",
    "Syntax: A wrapper function is typically called explicitly by the user, while a decorator is used by applying the @decorator_name syntax to the function that you want to modify. This syntax tells Python to take the decorated function as input to the decorator function and return a new, decorated version of that function."
   ]
  },
  {
   "cell_type": "markdown",
   "id": "c6ea0bc6",
   "metadata": {},
   "source": [
    "### Q10. If a function is a generator function, what does it return?"
   ]
  },
  {
   "cell_type": "markdown",
   "id": "c37f132e",
   "metadata": {},
   "source": [
    "\n",
    "A generator function does not return a value in the traditional sense. Instead, it returns an iterator object that can be used to iterate over a sequence of values generated by the function.\n",
    "\n",
    "When a generator function is called, it returns a generator object. The generator object can be used to iterate over the sequence of values generated by the function, one at a time. Each value is generated on-the-fly as the generator is iterated, rather than all at once like with a list comprehension or traditional loop. This can be useful for generating large or infinite sequences of values, since it allows for memory-efficient processing of the data."
   ]
  },
  {
   "cell_type": "markdown",
   "id": "3b0ba1d7",
   "metadata": {},
   "source": [
    "### Q11. What is the one improvement that must be made to a function in order for it to become agenerator function in the Python language?"
   ]
  },
  {
   "cell_type": "markdown",
   "id": "80a1893e",
   "metadata": {},
   "source": [
    "In order for a regular function in Python to become a generator function, it must contain at least one yield statement. The yield statement is used to produce a value from the generator function and temporarily suspends the function's execution. The next time the function is called, it resumes execution from where it left off and continues until the next yield statement is encountered. This process continues until the function has produced all of its values, at which point the generator is exhausted."
   ]
  },
  {
   "cell_type": "markdown",
   "id": "db9c822f",
   "metadata": {},
   "source": [
    "### Q12. Identify at least one benefit of generators."
   ]
  },
  {
   "cell_type": "markdown",
   "id": "7600a2d5",
   "metadata": {},
   "source": [
    "\n",
    "One benefit of generators is that they can help improve memory efficiency.\n",
    "\n",
    "When we create a list or other iterable object in Python, all the values in the sequence are computed and stored in memory at once. For large datasets or sequences, this can be a problem as it can use up a lot of memory. Generators provide an alternative way to generate and iterate over a sequence of values one at a time, which can help reduce memory usage."
   ]
  },
  {
   "cell_type": "code",
   "execution_count": null,
   "id": "cf29a104",
   "metadata": {},
   "outputs": [],
   "source": []
  }
 ],
 "metadata": {
  "kernelspec": {
   "display_name": "Python 3 (ipykernel)",
   "language": "python",
   "name": "python3"
  },
  "language_info": {
   "codemirror_mode": {
    "name": "ipython",
    "version": 3
   },
   "file_extension": ".py",
   "mimetype": "text/x-python",
   "name": "python",
   "nbconvert_exporter": "python",
   "pygments_lexer": "ipython3",
   "version": "3.10.9"
  }
 },
 "nbformat": 4,
 "nbformat_minor": 5
}
